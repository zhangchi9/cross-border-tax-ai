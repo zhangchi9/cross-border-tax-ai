{
 "cells": [
  {
   "cell_type": "markdown",
   "metadata": {},
   "source": [
    "# Cross-Border Tax Workflow Testing (Phase 3 Enhanced)\n",
    "\n",
    "This notebook tests the complete science pipeline with all Phase 3 enhancements.\n",
    "\n",
    "**Features Tested:**\n",
    "- ✅ Phase 2: LLM-based tag assignment & question selection\n",
    "- ✅ Phase 3: Multi-fact extraction, smart module skipping, explanations, clarifications, follow-ups, verification, corrections\n",
    "\n",
    "**Owner:** Science Team  \n",
    "**Last Updated:** 2025-09-30"
   ]
  },
  {
   "cell_type": "markdown",
   "metadata": {},
   "source": [
    "## 1. Setup & Imports"
   ]
  },
  {
   "cell_type": "code",
   "execution_count": null,
   "metadata": {},
   "outputs": [],
   "source": [
    "import sys\n",
    "import os\n",
    "from pathlib import Path\n",
    "import json\n",
    "from datetime import datetime\n",
    "\n",
    "# Add backend to path\n",
    "backend_path = Path.cwd()\n",
    "if str(backend_path) not in sys.path:\n",
    "    sys.path.insert(0, str(backend_path))\n",
    "\n",
    "print(f\"✓ Backend path: {backend_path}\")\n",
    "print(f\"✓ Python path configured\")"
   ]
  },
  {
   "cell_type": "code",
   "execution_count": null,
   "metadata": {},
   "outputs": [],
   "source": [
    "# Load environment variables\n",
    "from dotenv import load_dotenv\n",
    "load_dotenv(override=True)\n",
    "\n",
    "# Import science modules\n",
    "from science.agents.workflow import TaxConsultationWorkflow\n",
    "from science.agents.state import create_initial_state\n",
    "from science.config import science_config\n",
    "\n",
    "print(\"✓ Science modules imported successfully\")\n",
    "print(f\"\\n📋 Current Configuration:\")\n",
    "print(f\"  AI Provider: {science_config.AI_MODEL_PROVIDER}\")\n",
    "print(f\"  Model: {science_config.OPENAI_MODEL if science_config.AI_MODEL_PROVIDER == 'openai' else science_config.GEMINI_MODEL}\")\n",
    "\n",
    "print(f\"\\n🔧 Phase 2 Features:\")\n",
    "print(f\"  LLM Tag Assignment: {science_config.USE_LLM_TAG_ASSIGNMENT}\")\n",
    "print(f\"  LLM Question Selection: {science_config.USE_LLM_QUESTION_SELECTION}\")\n",
    "\n",
    "print(f\"\\n🚀 Phase 3 Features:\")\n",
    "print(f\"  Multi-Fact Extraction: {science_config.USE_MULTI_FACT_EXTRACTION}\")\n",
    "print(f\"  Smart Module Skipping: {science_config.USE_SMART_MODULE_SKIPPING}\")\n",
    "print(f\"  Explanation Generation: {science_config.USE_EXPLANATION_GENERATION}\")\n",
    "print(f\"  Auto-Clarification: {science_config.USE_AUTO_CLARIFICATION}\")\n",
    "print(f\"  Adaptive Follow-ups: {science_config.USE_ADAPTIVE_FOLLOWUPS}\")\n",
    "print(f\"  Verification Phase: {science_config.USE_VERIFICATION_PHASE}\")\n",
    "print(f\"  Progressive Assignment: {science_config.USE_PROGRESSIVE_ASSIGNMENT}\")\n",
    "print(f\"  Context Correction: {science_config.USE_CONTEXT_CORRECTION}\")"
   ]
  },
  {
   "cell_type": "markdown",
   "metadata": {},
   "source": [
    "## 2. Helper Functions"
   ]
  },
  {
   "cell_type": "code",
   "execution_count": null,
   "metadata": {},
   "outputs": [],
   "source": [
    "def print_separator(char=\"=\", length=80):\n",
    "    print(char * length)\n",
    "\n",
    "def print_message(role: str, content: str, quick_replies: list = None):\n",
    "    \"\"\"Print a formatted conversation message\"\"\"\n",
    "    print_separator()\n",
    "    print(f\"{role.upper()}:\")\n",
    "    print(content)\n",
    "    if quick_replies:\n",
    "        print(f\"\\nQuick Replies: {', '.join(quick_replies)}\")\n",
    "    print_separator()\n",
    "\n",
    "def print_state_summary(state: dict):\n",
    "    \"\"\"Print a comprehensive state summary\"\"\"\n",
    "    print(\"\\n\" + \"=\"*80)\n",
    "    print(\"STATE SUMMARY\")\n",
    "    print(\"=\"*80)\n",
    "    \n",
    "    # Basic info\n",
    "    print(f\"Phase: {state['current_phase']}\")\n",
    "    print(f\"Current Module: {state.get('current_module', 'None')}\")\n",
    "    print(f\"Conversation Turns: {len(state['messages'])}\")\n",
    "    print(f\"Session ID: {state.get('session_id', 'N/A')}\")\n",
    "    \n",
    "    # Tags\n",
    "    print(f\"\\n📌 Assigned Tags ({len(state['assigned_tags'])}):\")\n",
    "    if state['assigned_tags']:\n",
    "        for tag in state['assigned_tags']:\n",
    "            confidence = state['tag_confidence'].get(tag, 'unknown')\n",
    "            reasoning = state['tag_assignment_reasoning'].get(tag, {})\n",
    "            method = reasoning.get('method', 'llm_analysis')\n",
    "            print(f\"  • {tag}\")\n",
    "            print(f\"    - Confidence: {confidence}\")\n",
    "            print(f\"    - Method: {method}\")\n",
    "    else:\n",
    "        print(\"  (none)\")\n",
    "    \n",
    "    # Phase 3: Extracted facts\n",
    "    if state.get('extracted_facts'):\n",
    "        print(f\"\\n💡 Extracted Facts ({len(state['extracted_facts'])}):\")\n",
    "        for fact in state['extracted_facts'][-5:]:  # Last 5\n",
    "            print(f\"  • {fact.get('fact', 'N/A')}\")\n",
    "            print(f\"    - Confidence: {fact.get('confidence', 'N/A')}\")\n",
    "            print(f\"    - Evidence: {fact.get('evidence', 'N/A')[:60]}...\")\n",
    "    \n",
    "    # Phase 3: Skipped modules\n",
    "    if state.get('skipped_modules'):\n",
    "        print(f\"\\n⏭️  Skipped Modules: {', '.join(state['skipped_modules'])}\")\n",
    "    \n",
    "    # Phase 3: Corrections\n",
    "    if state.get('corrections_made'):\n",
    "        print(f\"\\n✏️  Corrections Made: {len(state['corrections_made'])}\")\n",
    "        for corr in state['corrections_made']:\n",
    "            print(f\"  • Turn {corr.get('conversation_turn', 'N/A')}: {corr.get('reasoning', 'N/A')[:60]}...\")\n",
    "    \n",
    "    # Phase 3: Verification\n",
    "    if state.get('verification_needed'):\n",
    "        print(f\"\\n🔍 Tags Needing Verification: {len(state['verification_needed'])}\")\n",
    "        for v in state['verification_needed']:\n",
    "            print(f\"  • {v.get('tag', 'N/A')} ({v.get('confidence', 'N/A')})\")\n",
    "    \n",
    "    # Module progress\n",
    "    print(f\"\\n📚 Completed Modules: {', '.join(state.get('completed_modules', [])) or 'None'}\")\n",
    "    print(f\"Questions Asked: {len(state.get('asked_question_ids', []))}\")\n",
    "    print(f\"Questions Skipped: {len(state.get('skipped_question_ids', []))}\")\n",
    "    \n",
    "    # Transition status\n",
    "    print(f\"\\n⚡ Ready to Transition: {state.get('should_transition', False)}\")\n",
    "    if state.get('transition_reason'):\n",
    "        print(f\"Transition Reason: {state['transition_reason']}\")\n",
    "    \n",
    "    print(\"=\"*80 + \"\\n\")\n",
    "\n",
    "def print_forms_analysis(state: dict):\n",
    "    \"\"\"Print forms analysis results\"\"\"\n",
    "    print(\"\\n\" + \"=\"*80)\n",
    "    print(\"FORMS ANALYSIS RESULTS\")\n",
    "    print(\"=\"*80)\n",
    "    \n",
    "    print(f\"\\nComplexity: {state.get('estimated_complexity', 'N/A').upper()}\")\n",
    "    \n",
    "    print(f\"\\n📄 Required Forms ({len(state.get('required_forms', []))}):\")\n",
    "    for form in state.get('required_forms', []):\n",
    "        print(f\"\\n  {form.get('form', 'N/A')} - {form.get('jurisdiction', 'N/A')}\")\n",
    "        print(f\"    Priority: {form.get('priority', 'N/A')}\")\n",
    "        print(f\"    Due: {form.get('due_date', 'N/A')}\")\n",
    "        print(f\"    Description: {form.get('description', 'N/A')}\")\n",
    "    \n",
    "    print(f\"\\n💡 Recommendations:\")\n",
    "    for i, rec in enumerate(state.get('recommendations', []), 1):\n",
    "        print(f\"  {i}. {rec}\")\n",
    "    \n",
    "    print(f\"\\n📝 Next Steps:\")\n",
    "    for i, step in enumerate(state.get('next_steps', []), 1):\n",
    "        print(f\"  {i}. {step}\")\n",
    "    \n",
    "    print(\"=\"*80 + \"\\n\")\n",
    "\n",
    "print(\"✓ Helper functions loaded\")"
   ]
  },
  {
   "cell_type": "markdown",
   "metadata": {},
   "source": [
    "## 3. Test Scenario 1: Multi-Fact Extraction\n",
    "\n",
    "Tests Phase 3 multi-fact extraction by providing a complex initial response."
   ]
  },
  {
   "cell_type": "code",
   "execution_count": null,
   "metadata": {},
   "outputs": [],
   "source": "print(\"\\n\" + \"#\"*80)\nprint(\"# TEST SCENARIO 1: MULTI-FACT EXTRACTION\")\nprint(\"#\"*80 + \"\\n\")\n\n# Create workflow\nworkflow = TaxConsultationWorkflow()\nsession_id = \"test_multifact_\" + datetime.now().strftime(\"%Y%m%d_%H%M%S\")\n\n# Complex initial message with multiple facts\ninitial_message = \"\"\"Hi, I'm a US citizen who moved to Canada last year for a job at a tech company. \nI still have my 401k account from my previous US employer, and I'm renting out a condo I own in Seattle. \nI also opened an RRSP account here in Canada for retirement savings.\"\"\"\n\nprint(\"🧪 Testing multi-fact extraction from complex initial response...\\n\")\nprint_message(\"user\", initial_message)\n\n# Start consultation using SYNC method\nresult = workflow.start_consultation_sync(initial_message, session_id=session_id)\n\n# Print response\nprint_message(\n    \"assistant\",\n    result['assistant_response'],\n    result.get('quick_replies', [])\n)\n\n# Print state\nprint_state_summary(result)\n\nprint(\"\\n📊 EXPECTED BEHAVIOR:\")\nprint(\"System should extract multiple facts from single response:\")\nprint(\"  ✓ US citizenship → us_person_worldwide_filing\")\nprint(\"  ✓ Moved to Canada → cross_border_residency, residency_change_dual_status\")\nprint(\"  ✓ 401k → cross_border_retirement_plans\")\nprint(\"  ✓ Seattle rental → us_person_us_rental\")\nprint(\"  ✓ RRSP → tfsa_resp_us_person (potentially)\")\nprint(\"\\n📌 CHECK: Did system assign 4-5 tags from this single response?\")"
  },
  {
   "cell_type": "markdown",
   "metadata": {},
   "source": [
    "## 4. Test Scenario 2: Smart Module Skipping\n",
    "\n",
    "Tests Phase 3 smart module skipping when user clearly indicates no business."
   ]
  },
  {
   "cell_type": "code",
   "execution_count": null,
   "metadata": {},
   "outputs": [],
   "source": "print(\"\\n\" + \"#\"*80)\nprint(\"# TEST SCENARIO 2: SMART MODULE SKIPPING\")\nprint(\"#\"*80 + \"\\n\")\n\n# New workflow\nworkflow2 = TaxConsultationWorkflow()\nsession_id2 = \"test_skip_\" + datetime.now().strftime(\"%Y%m%d_%H%M%S\")\n\n# Clear message about W-2 employment only\nmessage1 = \"I'm a W-2 employee at a Canadian company. No business ownership, just regular employment.\"\nprint_message(\"user\", message1)\n\nresult2 = workflow2.start_consultation_sync(message1, session_id=session_id2)\nprint_message(\"assistant\", result2['assistant_response'], result2.get('quick_replies', []))\nprint_state_summary(result2)\n\n# Continue\nmessage2 = \"Yes, I'm a Canadian resident\"\nprint_message(\"user\", message2)\n\nresult2 = workflow2.continue_consultation_sync(session_id2, message2)\nprint_message(\"assistant\", result2['assistant_response'], result2.get('quick_replies', []))\nprint_state_summary(result2)\n\nprint(\"\\n📊 EXPECTED BEHAVIOR:\")\nprint(\"System should:\")\nprint(\"  ✓ Detect 'W-2 employee' and 'No business ownership'\")\nprint(\"  ✓ Mark 'business_entities' module as skipped\")\nprint(\"  ✓ Never ask business-related questions\")\nprint(\"\\n📌 CHECK: Is 'business_entities' in Skipped Modules list above?\")"
  },
  {
   "cell_type": "markdown",
   "metadata": {},
   "source": [
    "## 5. Test Scenario 3: Context Correction\n",
    "\n",
    "Tests Phase 3 correction handling when user corrects previous answer."
   ]
  },
  {
   "cell_type": "code",
   "execution_count": null,
   "metadata": {},
   "outputs": [],
   "source": "print(\"\\n\" + \"#\"*80)\nprint(\"# TEST SCENARIO 3: CONTEXT CORRECTION\")\nprint(\"#\"*80 + \"\\n\")\n\n# New workflow\nworkflow3 = TaxConsultationWorkflow()\nsession_id3 = \"test_correct_\" + datetime.now().strftime(\"%Y%m%d_%H%M%S\")\n\n# Initial conversation\nmsg1 = \"I'm a Canadian resident\"\nprint_message(\"user\", msg1)\nresult3 = workflow3.start_consultation_sync(msg1, session_id=session_id3)\nprint_message(\"assistant\", result3['assistant_response'], result3.get('quick_replies', []))\n\nmsg2 = \"No, I don't have any businesses\"\nprint_message(\"user\", msg2)\nresult3 = workflow3.continue_consultation_sync(session_id3, msg2)\nprint_message(\"assistant\", result3['assistant_response'], result3.get('quick_replies', []))\n\nprint(\"\\n⏳ A few turns later...\\n\")\n\n# Make a correction\ncorrection = \"\"\"Actually, wait - I forgot to mention I do have a small LLC for freelance consulting work. \nIt's not very active, so I didn't think of it as a 'business' initially.\"\"\"\n\nprint_message(\"user\", correction)\nresult3 = workflow3.continue_consultation_sync(session_id3, correction)\nprint_message(\"assistant\", result3['assistant_response'], result3.get('quick_replies', []))\nprint_state_summary(result3)\n\nprint(\"\\n📊 EXPECTED BEHAVIOR:\")\nprint(\"System should:\")\nprint(\"  ✓ Detect correction keywords ('Actually, wait')\")\nprint(\"  ✓ Add business-related tags (business_entity_foreign_ownership, etc.)\")\nprint(\"  ✓ Re-enable business_entities module\")\nprint(\"  ✓ Log correction in corrections_made[]\")\nprint(\"\\n📌 CHECK: Are there entries in 'Corrections Made' section above?\")"
  },
  {
   "cell_type": "markdown",
   "metadata": {},
   "source": [
    "## 6. Test Scenario 4: Full Conversation to Forms Analysis\n",
    "\n",
    "Complete conversation flow through to forms analysis phase."
   ]
  },
  {
   "cell_type": "code",
   "execution_count": null,
   "metadata": {},
   "outputs": [],
   "source": "print(\"\\n\" + \"#\"*80)\nprint(\"# TEST SCENARIO 4: FULL CONVERSATION FLOW\")\nprint(\"#\"*80 + \"\\n\")\n\n# New workflow\nworkflow4 = TaxConsultationWorkflow()\nsession_id4 = \"test_full_\" + datetime.now().strftime(\"%Y%m%d_%H%M%S\")\n\n# Conversation messages\nmessages = [\n    \"I'm a US citizen living in Canada\",\n    \"Yes, I moved here last year\",\n    \"I work as a W-2 employee\",\n    \"I have bank accounts in both countries\",\n    \"Yes, I own a rental property in the US\",\n    \"I have an RRSP in Canada\",\n    \"No other investments\",\n]\n\n# Start\nprint_message(\"user\", messages[0])\nresult4 = workflow4.start_consultation_sync(messages[0], session_id=session_id4)\nprint_message(\"assistant\", result4['assistant_response'], result4.get('quick_replies', []))\nprint_state_summary(result4)\n\n# Continue through conversation\nfor i, msg in enumerate(messages[1:], 2):\n    print(f\"\\n--- Turn {i} ---\\n\")\n    print_message(\"user\", msg)\n    result4 = workflow4.continue_consultation_sync(session_id4, msg)\n    print_message(\"assistant\", result4['assistant_response'], result4.get('quick_replies', []))\n    print_state_summary(result4)\n    \n    # Check if transitioned\n    if result4['current_phase'] == 'forms_analysis':\n        print(\"\\n🎉 TRANSITIONED TO FORMS ANALYSIS!\")\n        print_forms_analysis(result4)\n        break\n\n# If not transitioned, force it\nif result4['current_phase'] != 'forms_analysis':\n    print(\"\\n⏭️  Forcing transition to forms analysis...\")\n    result4 = workflow4.force_transition_to_forms_analysis_sync(session_id4)\n    print_message(\"assistant\", result4['assistant_response'])\n    print_forms_analysis(result4)"
  },
  {
   "cell_type": "markdown",
   "metadata": {},
   "source": [
    "## 7. Interactive Testing\n",
    "\n",
    "Run your own custom conversation."
   ]
  },
  {
   "cell_type": "code",
   "execution_count": null,
   "metadata": {},
   "outputs": [],
   "source": "print(\"\\n\" + \"#\"*80)\nprint(\"# INTERACTIVE TESTING\")\nprint(\"#\"*80 + \"\\n\")\n\n# Create interactive workflow\ninteractive_workflow = TaxConsultationWorkflow()\ninteractive_session = \"test_interactive_\" + datetime.now().strftime(\"%Y%m%d_%H%M%S\")\n\nprint(\"Type your messages below.\")\nprint(\"Commands: 'quit' to exit, 'state' to see state summary, 'force' to force forms analysis\\n\")\n\n# Get initial message\nuser_input = input(\"Your message: \")\n\nif user_input.lower() != 'quit':\n    result = interactive_workflow.start_consultation_sync(user_input, session_id=interactive_session)\n    print_message(\"assistant\", result['assistant_response'], result.get('quick_replies', []))\n    \n    # Conversation loop\n    while True:\n        user_input = input(\"\\nYour message: \")\n        \n        if user_input.lower() == 'quit':\n            print(\"Ending session...\")\n            break\n        \n        if user_input.lower() == 'state':\n            print_state_summary(result)\n            continue\n        \n        if user_input.lower() == 'force':\n            result = interactive_workflow.force_transition_to_forms_analysis_sync(interactive_session)\n            print_message(\"assistant\", result['assistant_response'])\n            print_forms_analysis(result)\n            break\n        \n        result = interactive_workflow.continue_consultation_sync(interactive_session, user_input)\n        print_message(\"assistant\", result['assistant_response'], result.get('quick_replies', []))\n        \n        if result['current_phase'] == 'forms_analysis':\n            print(\"\\n🎉 Conversation complete! Forms analysis generated.\")\n            print_forms_analysis(result)\n            break"
  },
  {
   "cell_type": "markdown",
   "metadata": {},
   "source": [
    "## 8. Feature Flag Testing\n",
    "\n",
    "Compare behavior with Phase 3 features on vs off."
   ]
  },
  {
   "cell_type": "code",
   "execution_count": null,
   "metadata": {},
   "outputs": [],
   "source": "print(\"\\n\" + \"#\"*80)\nprint(\"# FEATURE FLAG TESTING: PHASE 2 vs PHASE 3\")\nprint(\"#\"*80 + \"\\n\")\n\n# Save original config\noriginal_flags = {\n    'multi_fact': science_config.USE_MULTI_FACT_EXTRACTION,\n    'smart_skip': science_config.USE_SMART_MODULE_SKIPPING,\n    'explanation': science_config.USE_EXPLANATION_GENERATION,\n    'clarification': science_config.USE_AUTO_CLARIFICATION,\n    'followups': science_config.USE_ADAPTIVE_FOLLOWUPS,\n    'verification': science_config.USE_VERIFICATION_PHASE,\n    'progressive': science_config.USE_PROGRESSIVE_ASSIGNMENT,\n    'correction': science_config.USE_CONTEXT_CORRECTION,\n}\n\n# Test message\ntest_msg = \"I'm a US citizen living in Canada with rental property in Seattle and an RRSP account\"\n\nprint(\"🧪 Test Message:\")\nprint(f\"  '{test_msg}'\\n\")\n\n# Test with Phase 3 ON\nprint(\"\\n\" + \"=\"*80)\nprint(\"PHASE 3 ENABLED\")\nprint(\"=\"*80 + \"\\n\")\n\nworkflow_p3 = TaxConsultationWorkflow()\nsession_p3 = \"test_p3on_\" + datetime.now().strftime(\"%Y%m%d_%H%M%S\")\nresult_p3 = workflow_p3.start_consultation_sync(test_msg, session_id=session_p3)\n\nprint(f\"Tags assigned: {len(result_p3['assigned_tags'])}\")\nprint(f\"Tags: {result_p3['assigned_tags']}\")\nprint(f\"Extracted facts: {len(result_p3.get('extracted_facts', []))}\")\n\n# Disable Phase 3\nscience_config.USE_MULTI_FACT_EXTRACTION = False\nscience_config.USE_SMART_MODULE_SKIPPING = False\nscience_config.USE_EXPLANATION_GENERATION = False\nscience_config.USE_AUTO_CLARIFICATION = False\nscience_config.USE_ADAPTIVE_FOLLOWUPS = False\nscience_config.USE_VERIFICATION_PHASE = False\nscience_config.USE_PROGRESSIVE_ASSIGNMENT = False\nscience_config.USE_CONTEXT_CORRECTION = False\n\n# Test with Phase 3 OFF\nprint(\"\\n\" + \"=\"*80)\nprint(\"PHASE 3 DISABLED (Phase 2 only)\")\nprint(\"=\"*80 + \"\\n\")\n\nworkflow_p2 = TaxConsultationWorkflow()\nsession_p2 = \"test_p3off_\" + datetime.now().strftime(\"%Y%m%d_%H%M%S\")\nresult_p2 = workflow_p2.start_consultation_sync(test_msg, session_id=session_p2)\n\nprint(f\"Tags assigned: {len(result_p2['assigned_tags'])}\")\nprint(f\"Tags: {result_p2['assigned_tags']}\")\nprint(f\"Extracted facts: {len(result_p2.get('extracted_facts', []))}\")\n\n# Comparison\nprint(\"\\n\" + \"=\"*80)\nprint(\"COMPARISON\")\nprint(\"=\"*80 + \"\\n\")\nprint(f\"Phase 3: {len(result_p3['assigned_tags'])} tags assigned\")\nprint(f\"Phase 2: {len(result_p2['assigned_tags'])} tags assigned\")\nprint(f\"\\nDifference: {len(result_p3['assigned_tags']) - len(result_p2['assigned_tags']):+d} tags\")\nprint(f\"\\n📊 Phase 3 multi-fact extraction should assign MORE tags from same response.\")\n\n# Restore config\nscience_config.USE_MULTI_FACT_EXTRACTION = original_flags['multi_fact']\nscience_config.USE_SMART_MODULE_SKIPPING = original_flags['smart_skip']\nscience_config.USE_EXPLANATION_GENERATION = original_flags['explanation']\nscience_config.USE_AUTO_CLARIFICATION = original_flags['clarification']\nscience_config.USE_ADAPTIVE_FOLLOWUPS = original_flags['followups']\nscience_config.USE_VERIFICATION_PHASE = original_flags['verification']\nscience_config.USE_PROGRESSIVE_ASSIGNMENT = original_flags['progressive']\nscience_config.USE_CONTEXT_CORRECTION = original_flags['correction']\n\nprint(\"\\n✓ Configuration restored\")"
  },
  {
   "cell_type": "markdown",
   "metadata": {},
   "source": [
    "## 9. Export Session Data\n",
    "\n",
    "Export session for debugging or analysis."
   ]
  },
  {
   "cell_type": "code",
   "execution_count": null,
   "metadata": {},
   "outputs": [],
   "source": [
    "# Choose session to export (use any session_id from above)\n",
    "export_session_id = session_id4  # From full conversation test\n",
    "\n",
    "# Get state\n",
    "session_state = workflow4.get_session_state(export_session_id)\n",
    "\n",
    "if session_state:\n",
    "    # Save to file\n",
    "    output_file = f\"session_export_{datetime.now().strftime('%Y%m%d_%H%M%S')}.json\"\n",
    "    \n",
    "    with open(output_file, 'w', encoding='utf-8') as f:\n",
    "        json.dump(session_state, f, indent=2, default=str)\n",
    "    \n",
    "    print(f\"✓ Session exported to: {output_file}\")\n",
    "    print(f\"\\nSession Info:\")\n",
    "    print(f\"  Phase: {session_state['current_phase']}\")\n",
    "    print(f\"  Messages: {len(session_state['messages'])}\")\n",
    "    print(f\"  Tags: {len(session_state['assigned_tags'])}\")\n",
    "    print(f\"  Forms: {len(session_state.get('required_forms', []))}\")\n",
    "else:\n",
    "    print(f\"Session {export_session_id} not found\")"
   ]
  },
  {
   "cell_type": "markdown",
   "metadata": {},
   "source": [
    "---\n",
    "\n",
    "## Summary\n",
    "\n",
    "**Features Tested:**\n",
    "- ✅ Multi-fact extraction from complex responses\n",
    "- ✅ Smart module skipping based on user situation  \n",
    "- ✅ Context correction handling\n",
    "- ✅ Full conversation flow to forms analysis\n",
    "- ✅ Interactive testing capability\n",
    "- ✅ Configuration comparison (Phase 2 vs Phase 3)\n",
    "- ✅ Session data export\n",
    "\n",
    "**Next Steps:**\n",
    "1. Test with real user scenarios\n",
    "2. Validate forms analysis accuracy\n",
    "3. Monitor LLM costs\n",
    "4. Collect user feedback\n",
    "5. Test clarification and verification flows\n",
    "6. Test adaptive follow-up generation\n",
    "\n",
    "**Tips:**\n",
    "- Modify `science/config.py` to toggle feature flags\n",
    "- Edit `science/agents/prompts.py` to adjust LLM prompts\n",
    "- Update `tax_team/knowledge_base/*.md` and re-run parser\n",
    "- Use `print_state_summary()` to inspect internal state\n",
    "\n",
    "Happy testing! 🚀"
   ]
  }
 ],
 "metadata": {
  "kernelspec": {
   "display_name": "Python 3",
   "language": "python",
   "name": "python3"
  },
  "language_info": {
   "codemirror_mode": {
    "name": "ipython",
    "version": 3
   },
   "file_extension": ".py",
   "mimetype": "text/x-python",
   "name": "python",
   "nbconvert_exporter": "python",
   "pygments_lexer": "ipython3",
   "version": "3.11.0"
  }
 },
 "nbformat": 4,
 "nbformat_minor": 4
}