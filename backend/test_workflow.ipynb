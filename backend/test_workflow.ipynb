{
 "cells": [
  {
   "cell_type": "markdown",
   "metadata": {},
   "source": [
    "# Tax Consultation Workflow Testing\n",
    "\n",
    "This notebook allows you to test and develop the science workflow interactively.\n",
    "\n",
    "**Owner**: Science Team  \n",
    "**Purpose**: Test LangGraph workflow, prompts, and knowledge base integration"
   ]
  },
  {
   "cell_type": "markdown",
   "metadata": {},
   "source": [
    "## 1. Setup & Imports"
   ]
  },
  {
   "cell_type": "code",
   "execution_count": null,
   "metadata": {},
   "outputs": [],
   "source": [
    "import sys\n",
    "import os\n",
    "from pathlib import Path\n",
    "import json\n",
    "import asyncio\n",
    "\n",
    "# Add backend to path\n",
    "backend_path = Path.cwd()\n",
    "if str(backend_path) not in sys.path:\n",
    "    sys.path.insert(0, str(backend_path))\n",
    "\n",
    "print(f\"✓ Backend path: {backend_path}\")\n",
    "print(f\"✓ Python path configured\")"
   ]
  },
  {
   "cell_type": "code",
   "execution_count": null,
   "metadata": {},
   "outputs": [],
   "source": [
    "# Import science modules\n",
    "from science.services.knowledge_parser import KnowledgeBaseParser, parse_knowledge_base\n",
    "from science.agents.workflow import TaxConsultationWorkflow\n",
    "from science.config import science_config\n",
    "\n",
    "print(\"✓ Science modules imported successfully\")\n",
    "print(f\"✓ Using AI provider: {science_config.AI_MODEL_PROVIDER}\")\n",
    "print(f\"✓ Model: {science_config.OPENAI_MODEL if science_config.AI_MODEL_PROVIDER == 'openai' else science_config.GEMINI_MODEL}\")"
   ]
  },
  {
   "cell_type": "markdown",
   "metadata": {},
   "source": [
    "## 2. Parse Knowledge Base\n",
    "\n",
    "First, we need to parse the markdown files from `tax_team/knowledge_base/` into JSON format."
   ]
  },
  {
   "cell_type": "code",
   "execution_count": null,
   "metadata": {},
   "outputs": [],
   "source": [
    "# Parse knowledge base\n",
    "print(\"📁 Parsing knowledge base...\")\n",
    "kb = parse_knowledge_base()\n",
    "\n",
    "print(\"\\n✓ Knowledge base parsed successfully!\")\n",
    "print(f\"\\n📊 Statistics:\")\n",
    "print(f\"  - Gating questions: {len(kb['intake']['gating_questions']['questions'])}\")\n",
    "print(f\"  - Modules: {len(kb['intake']['modules'])}\")\n",
    "print(f\"  - Tags: {len(kb['tags']['tag_definitions'])}\")\n",
    "\n",
    "print(f\"\\n💾 Cached JSON files created in: science/knowledge_cache/\")"
   ]
  },
  {
   "cell_type": "markdown",
   "metadata": {},
   "source": [
    "### View Sample Data"
   ]
  },
  {
   "cell_type": "code",
   "execution_count": null,
   "metadata": {},
   "outputs": [],
   "source": [
    "# View first gating question\n",
    "sample_q = kb['intake']['gating_questions']['questions'][0]\n",
    "print(\"📝 Sample Gating Question:\")\n",
    "print(f\"  ID: {sample_q['id']}\")\n",
    "print(f\"  Question: {sample_q['question']}\")\n",
    "print(f\"  Action: {sample_q['action']}\")"
   ]
  },
  {
   "cell_type": "code",
   "execution_count": null,
   "metadata": {},
   "outputs": [],
   "source": [
    "# View first tag definition\n",
    "tag_id = list(kb['tags']['tag_definitions'].keys())[0]\n",
    "sample_tag = kb['tags']['tag_definitions'][tag_id]\n",
    "print(\"🏷️  Sample Tag:\")\n",
    "print(f\"  ID: {sample_tag['id']}\")\n",
    "print(f\"  Name: {sample_tag['name']}\")\n",
    "print(f\"  Description: {sample_tag['description'][:100]}...\")\n",
    "print(f\"  Jurisdictions: {list(sample_tag['forms'].keys())}\")"
   ]
  },
  {
   "cell_type": "markdown",
   "metadata": {},
   "source": [
    "## 3. Initialize Workflow"
   ]
  },
  {
   "cell_type": "code",
   "execution_count": null,
   "metadata": {},
   "outputs": [],
   "source": [
    "# Create workflow instance\n",
    "workflow = TaxConsultationWorkflow()\n",
    "print(\"✓ Workflow initialized\")\n",
    "print(f\"  - Recursion limit: {science_config.WORKFLOW_RECURSION_LIMIT}\")\n",
    "print(f\"  - Min tags for transition: {science_config.MIN_TAGS_FOR_TRANSITION}\")\n",
    "print(f\"  - Min conversation length: {science_config.MIN_CONVERSATION_LENGTH}\")"
   ]
  },
  {
   "cell_type": "markdown",
   "metadata": {},
   "source": [
    "## 4. Start Consultation\n",
    "\n",
    "Start a new tax consultation session."
   ]
  },
  {
   "cell_type": "code",
   "execution_count": null,
   "metadata": {},
   "outputs": [],
   "source": [
    "# Start consultation with initial message\n",
    "initial_message = \"I'm a U.S. citizen living in Canada and need help with my taxes.\"\n",
    "\n",
    "result = await workflow.start_consultation(initial_message)\n",
    "\n",
    "session_id = result['session_id']\n",
    "print(f\"🆔 Session ID: {session_id}\")\n",
    "print(f\"\\n📍 Phase: {result['current_phase']}\")\n",
    "print(f\"\\n🤖 Agent Response:\")\n",
    "print(f\"   {result['message']}\")\n",
    "print(f\"\\n💬 Quick Replies: {result['quick_replies']}\")\n",
    "print(f\"\\n🏷️  Tags: {result['assigned_tags']}\")"
   ]
  },
  {
   "cell_type": "markdown",
   "metadata": {},
   "source": [
    "## 5. Continue Conversation\n",
    "\n",
    "Continue the conversation by sending user responses."
   ]
  },
  {
   "cell_type": "code",
   "execution_count": null,
   "metadata": {},
   "outputs": [],
   "source": [
    "# Helper function to send message\n",
    "async def send_message(message: str):\n",
    "    result = await workflow.continue_consultation(session_id, message)\n",
    "    \n",
    "    print(f\"👤 User: {message}\")\n",
    "    print(f\"\\n🤖 Agent: {result['message']}\")\n",
    "    print(f\"\\n💬 Quick Replies: {result['quick_replies']}\")\n",
    "    print(f\"🏷️  Tags: {result['assigned_tags']}\")\n",
    "    print(f\"📍 Phase: {result['current_phase']}\")\n",
    "    \n",
    "    if result.get('transition'):\n",
    "        print(f\"\\n⚡ TRANSITION: Moving to forms analysis!\")\n",
    "    \n",
    "    print(\"\\n\" + \"=\"*80 + \"\\n\")\n",
    "    return result"
   ]
  },
  {
   "cell_type": "code",
   "execution_count": null,
   "metadata": {},
   "outputs": [],
   "source": [
    "# Answer the first question\n",
    "result = await send_message(\"Yes, I am a U.S. citizen\")"
   ]
  },
  {
   "cell_type": "code",
   "execution_count": null,
   "metadata": {},
   "outputs": [],
   "source": [
    "# Continue answering questions\n",
    "result = await send_message(\"Yes, I am a Canadian tax resident\")"
   ]
  },
  {
   "cell_type": "code",
   "execution_count": null,
   "metadata": {},
   "outputs": [],
   "source": [
    "# Another response\n",
    "result = await send_message(\"Yes, I earn employment income in Canada\")"
   ]
  },
  {
   "cell_type": "code",
   "execution_count": null,
   "metadata": {},
   "outputs": [],
   "source": [
    "# Keep answering...\n",
    "result = await send_message(\"Yes, I work for a Canadian company full-time\")"
   ]
  },
  {
   "cell_type": "code",
   "execution_count": null,
   "metadata": {},
   "outputs": [],
   "source": [
    "# More questions...\n",
    "result = await send_message(\"No, I don't have rental property\")"
   ]
  },
  {
   "cell_type": "markdown",
   "metadata": {},
   "source": [
    "## 6. View Session State\n",
    "\n",
    "Inspect the current state of the consultation."
   ]
  },
  {
   "cell_type": "code",
   "execution_count": null,
   "metadata": {},
   "outputs": [],
   "source": [
    "# Get session summary\n",
    "summary = await workflow.get_session_summary(session_id)\n",
    "\n",
    "print(\"📊 Session Summary:\")\n",
    "print(f\"\\n  🆔 Session ID: {summary['session_id']}\")\n",
    "print(f\"  📍 Phase: {summary['current_phase']}\")\n",
    "print(f\"  📝 Module: {summary.get('current_module', 'N/A')}\")\n",
    "print(f\"  💬 Messages: {summary['message_count']}\")\n",
    "print(f\"  🏷️  Tags: {summary['assigned_tags']}\")\n",
    "print(f\"  ✅ Completed Modules: {summary['completed_modules']}\")\n",
    "print(f\"  ⚡ Ready for forms analysis: {summary['has_sufficient_tags']}\")"
   ]
  },
  {
   "cell_type": "code",
   "execution_count": null,
   "metadata": {},
   "outputs": [],
   "source": [
    "# View conversation history\n",
    "history = await workflow.get_conversation_history(session_id)\n",
    "\n",
    "print(\"📜 Conversation History:\\n\")\n",
    "for i, msg in enumerate(history, 1):\n",
    "    role = \"👤 User\" if msg['role'] == 'user' else \"🤖 Agent\"\n",
    "    print(f\"{i}. {role}: {msg['content'][:100]}...\")\n",
    "    print()"
   ]
  },
  {
   "cell_type": "markdown",
   "metadata": {},
   "source": [
    "## 7. Force Forms Analysis\n",
    "\n",
    "If you have enough information, you can force transition to forms analysis."
   ]
  },
  {
   "cell_type": "code",
   "execution_count": null,
   "metadata": {},
   "outputs": [],
   "source": [
    "# Force forms analysis\n",
    "result = await workflow.force_forms_analysis(session_id)\n",
    "\n",
    "if 'error' in result:\n",
    "    print(f\"❌ Error: {result['error']}\")\n",
    "else:\n",
    "    print(\"✓ Forms analysis triggered!\\n\")\n",
    "    print(\"📋 Forms Analysis Report:\\n\")\n",
    "    print(result['message'])\n",
    "    print(\"\\n\" + \"=\"*80)\n",
    "    \n",
    "    if result.get('forms_analysis'):\n",
    "        analysis = result['forms_analysis']\n",
    "        print(f\"\\n📊 Complexity: {analysis.get('estimated_complexity', 'N/A')}\")\n",
    "        print(f\"\\n📄 Forms Required: {len(analysis.get('required_forms', []))}\")\n",
    "        print(f\"\\n💡 Recommendations: {len(analysis.get('recommendations', []))}\")"
   ]
  },
  {
   "cell_type": "markdown",
   "metadata": {},
   "source": [
    "## 8. Debug Utilities\n",
    "\n",
    "Helper functions for debugging and inspection."
   ]
  },
  {
   "cell_type": "code",
   "execution_count": null,
   "metadata": {},
   "outputs": [],
   "source": [
    "# Get detailed debug information\n",
    "debug_info = await workflow.debug_session(session_id)\n",
    "\n",
    "print(\"🔍 Debug Information:\\n\")\n",
    "print(json.dumps(debug_info, indent=2))"
   ]
  },
  {
   "cell_type": "code",
   "execution_count": null,
   "metadata": {},
   "outputs": [],
   "source": [
    "# View all available tags in knowledge base\n",
    "print(\"🏷️  All Available Tags:\\n\")\n",
    "for tag_id, tag_def in kb['tags']['tag_definitions'].items():\n",
    "    print(f\"  - {tag_id}: {tag_def['name']}\")"
   ]
  },
  {
   "cell_type": "code",
   "execution_count": null,
   "metadata": {},
   "outputs": [],
   "source": [
    "# View all modules\n",
    "print(\"📚 All Modules:\\n\")\n",
    "for module_id, module_data in kb['intake']['modules'].items():\n",
    "    print(f\"  - {module_id}: {module_data['title']}\")\n",
    "    print(f\"    Questions: {len(module_data['questions'])}\")\n",
    "    print()"
   ]
  },
  {
   "cell_type": "markdown",
   "metadata": {},
   "source": [
    "## 9. Test Different Scenarios\n",
    "\n",
    "Create multiple test scenarios to validate workflow behavior."
   ]
  },
  {
   "cell_type": "code",
   "execution_count": null,
   "metadata": {},
   "outputs": [],
   "source": [
    "# Scenario 1: US citizen with Canadian employment\n",
    "async def test_scenario_1():\n",
    "    print(\"🧪 Test Scenario 1: US Citizen with Canadian Employment\\n\")\n",
    "    \n",
    "    result = await workflow.start_consultation(\"I'm a US citizen working in Canada\")\n",
    "    s_id = result['session_id']\n",
    "    print(f\"Agent: {result['message']}\\n\")\n",
    "    \n",
    "    result = await workflow.continue_consultation(s_id, \"Yes, I am a US citizen\")\n",
    "    print(f\"Agent: {result['message']}\\n\")\n",
    "    \n",
    "    result = await workflow.continue_consultation(s_id, \"Yes, I am a Canadian resident\")\n",
    "    print(f\"Agent: {result['message']}\\n\")\n",
    "    \n",
    "    result = await workflow.continue_consultation(s_id, \"Yes, I earn employment income in Canada\")\n",
    "    print(f\"Agent: {result['message']}\\n\")\n",
    "    \n",
    "    summary = await workflow.get_session_summary(s_id)\n",
    "    print(f\"\\n✓ Tags assigned: {summary['assigned_tags']}\")\n",
    "    print(f\"✓ Phase: {summary['current_phase']}\")\n",
    "    \n",
    "    return s_id\n",
    "\n",
    "# Run scenario\n",
    "scenario_1_id = await test_scenario_1()"
   ]
  },
  {
   "cell_type": "code",
   "execution_count": null,
   "metadata": {},
   "outputs": [],
   "source": [
    "# Scenario 2: Canadian with US rental property\n",
    "async def test_scenario_2():\n",
    "    print(\"🧪 Test Scenario 2: Canadian with US Rental Property\\n\")\n",
    "    \n",
    "    result = await workflow.start_consultation(\"I'm Canadian and own rental property in the US\")\n",
    "    s_id = result['session_id']\n",
    "    print(f\"Agent: {result['message']}\\n\")\n",
    "    \n",
    "    result = await workflow.continue_consultation(s_id, \"No, I'm not a US citizen\")\n",
    "    print(f\"Agent: {result['message']}\\n\")\n",
    "    \n",
    "    result = await workflow.continue_consultation(s_id, \"Yes, I am a Canadian resident\")\n",
    "    print(f\"Agent: {result['message']}\\n\")\n",
    "    \n",
    "    result = await workflow.continue_consultation(s_id, \"Yes, I own rental property in the US\")\n",
    "    print(f\"Agent: {result['message']}\\n\")\n",
    "    \n",
    "    summary = await workflow.get_session_summary(s_id)\n",
    "    print(f\"\\n✓ Tags assigned: {summary['assigned_tags']}\")\n",
    "    print(f\"✓ Phase: {summary['current_phase']}\")\n",
    "    \n",
    "    return s_id\n",
    "\n",
    "# Run scenario\n",
    "scenario_2_id = await test_scenario_2()"
   ]
  },
  {
   "cell_type": "markdown",
   "metadata": {},
   "source": [
    "## 10. Reset and Start Fresh\n",
    "\n",
    "If you want to start over, just create a new workflow instance or start a new consultation."
   ]
  },
  {
   "cell_type": "code",
   "execution_count": null,
   "metadata": {},
   "outputs": [],
   "source": [
    "# Start fresh consultation\n",
    "print(\"🔄 Starting fresh consultation...\\n\")\n",
    "result = await workflow.start_consultation(\"Hello, I need tax help\")\n",
    "session_id = result['session_id']\n",
    "print(f\"✓ New session started: {session_id}\")\n",
    "print(f\"\\n🤖 Agent: {result['message']}\")"
   ]
  },
  {
   "cell_type": "markdown",
   "metadata": {},
   "source": [
    "---\n",
    "\n",
    "## Tips for Development\n",
    "\n",
    "1. **Modify prompts**: Edit `science/agents/prompts.py` and restart the kernel\n",
    "2. **Change workflow logic**: Edit `science/agents/nodes.py` or `workflow.py` and restart kernel\n",
    "3. **Update questions**: Edit `tax_team/knowledge_base/intake/questions.md` and re-run the parser cell\n",
    "4. **Update tags**: Edit `tax_team/knowledge_base/tags/definitions.md` and re-run the parser cell\n",
    "5. **Debug**: Use `debug_session()` and `get_session_summary()` to inspect internal state\n",
    "\n",
    "Happy testing! 🚀"
   ]
  }
 ],
 "metadata": {
  "kernelspec": {
   "display_name": "Python 3",
   "language": "python",
   "name": "python3"
  },
  "language_info": {
   "codemirror_mode": {
    "name": "ipython",
    "version": 3
   },
   "file_extension": ".py",
   "mimetype": "text/x-python",
   "name": "python",
   "nbconvert_exporter": "python",
   "pygments_lexer": "ipython3",
   "version": "3.11.0"
  }
 },
 "nbformat": 4,
 "nbformat_minor": 4
}